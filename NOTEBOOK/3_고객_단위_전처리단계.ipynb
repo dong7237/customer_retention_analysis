{
 "cells": [
  {
   "cell_type": "markdown",
   "id": "a0576ccf-c91c-4945-ab31-b19ca7a0a9db",
   "metadata": {},
   "source": [
    "# 고객 데이터 전처리 및 데이터프레임 생성 및 재방문 고객과 통계적 유의성 검정\n",
    "- 기존 데이터 프레임을 가공하여 고객 단위의 데이터프레임으로 가공\n",
    "- 재방문 고객과 일회성 방문 고객 간 통계적 차이 검정"
   ]
  },
  {
   "cell_type": "code",
   "execution_count": 144,
   "id": "53b6d6ae-50c9-4994-807f-0863acef6e47",
   "metadata": {
    "scrolled": true
   },
   "outputs": [],
   "source": [
    "import import_ipynb\n",
    "import EDA_분석목표수립단계"
   ]
  },
  {
   "cell_type": "code",
   "execution_count": 145,
   "id": "8a397b68-b866-4707-8659-05841b43053b",
   "metadata": {},
   "outputs": [],
   "source": [
    "one_visiter = EDA_분석목표수립단계.one_visiter"
   ]
  },
  {
   "cell_type": "markdown",
   "id": "ffd924b1-e875-4318-a87e-c7b46c89c27a",
   "metadata": {},
   "source": [
    "---"
   ]
  },
  {
   "cell_type": "code",
   "execution_count": 146,
   "id": "0f8c30ec-8db9-4164-b0ff-0337385cbfa7",
   "metadata": {},
   "outputs": [],
   "source": [
    "import pandas as pd\n",
    "import numpy as np\n",
    "import matplotlib.pyplot as plt\n",
    "import seaborn as sns"
   ]
  },
  {
   "cell_type": "code",
   "execution_count": 147,
   "id": "f8787ab9-2bf1-4482-966c-ea6798142a29",
   "metadata": {
    "scrolled": true
   },
   "outputs": [],
   "source": [
    "df = pd.read_csv('../PROCESSED/processed_df.csv')"
   ]
  },
  {
   "cell_type": "code",
   "execution_count": 148,
   "id": "71bf73ba-ccc0-422a-bede-eff0caef5784",
   "metadata": {},
   "outputs": [],
   "source": [
    "cust_cat = df.groupby(['고객ID','제품카테고리'])['수량'].sum().unstack().fillna(0)\n",
    "cust_cat = cust_cat.reset_index()\n",
    "# 고객별 제품카테고리별 구매 수량\n",
    "\n",
    "cust_cup = df.groupby(['고객ID','쿠폰상태'])['수량'].sum().unstack().fillna(0)\n",
    "cust_cup = cust_cup.reset_index()\n",
    "# 고객별 쿠폰상태별 구매 수량\n",
    "\n",
    "cust_sign = df.groupby(['고객ID'])['가입기간'].max().fillna(0)\n",
    "cust_sign = cust_sign.reset_index()\n",
    "# 고객별 최대 가입기간\n",
    "\n",
    "cust_avg = df.groupby(['고객ID'])[['순수익','수량']].mean().fillna(0)\n",
    "cust_avg = cust_avg.reset_index()\n",
    "# 고객별 평균 구매 수량, 순수익\n",
    "\n",
    "cust_trs = df.groupby(['고객ID'])['거래ID'].count().fillna(0)\n",
    "cust_trs = cust_trs.reset_index()\n",
    "#고객별 총 거래 횟수, 구매량(x)\n",
    "\n",
    "cust_lst = df.groupby(['고객ID'])['거래주차'].max().fillna(0)\n",
    "# 고객별 마지막 거래 주차\n",
    "\n",
    "cust_trs = df.groupby(['고객ID'])['거래ID'].count().fillna(0)\n",
    "cust_trs = cust_trs.reset_index()\n",
    "#고객별 총 거래 횟수, 구매량(x)\n",
    "\n",
    "cust_df = df[['고객ID','성별']].drop_duplicates()"
   ]
  },
  {
   "cell_type": "code",
   "execution_count": 149,
   "id": "a08c87bd-4139-45e2-83bb-8db4bf83bb49",
   "metadata": {},
   "outputs": [],
   "source": [
    "dfs = [cust_avg,cust_cat,cust_cup,cust_df,cust_sign,cust_trs,cust_lst]\n",
    "# 통합 대상 데이터프레임들\n",
    "\n",
    "merged_df_all = dfs[0] # 첫 번째 데이터프레임으로 시작\n",
    "\n",
    "for i in range(1, len(dfs)):\n",
    "    merged_df_all = pd.merge(merged_df_all, dfs[i], on='고객ID', how='inner')"
   ]
  },
  {
   "cell_type": "markdown",
   "id": "f5910766-57ca-4673-bd08-a230148275db",
   "metadata": {},
   "source": [
    "---"
   ]
  },
  {
   "cell_type": "code",
   "execution_count": 150,
   "id": "c380cd3d-5a10-473e-a3e7-d9aea9c54839",
   "metadata": {},
   "outputs": [],
   "source": [
    "merged_df_all.columns = ['고객ID','평균순수익','평균수량','Accessories',\n",
    " 'Android',\n",
    " 'Apparel',\n",
    " 'Bags',\n",
    " 'Bottles',\n",
    " 'Drinkware',\n",
    " 'Gift Cards',\n",
    " 'Headgear',\n",
    " 'Housewares',\n",
    " 'Lifestyle',\n",
    " 'Nest',\n",
    " 'Nest-Canada',\n",
    " 'Nest-USA',\n",
    " 'Notebooks & Journals',\n",
    " 'Office',\n",
    " 'Waze','Clicked','Not Used','Used','성별','가입기간','총거래량','마지막거래주']\n",
    "\n",
    "# 변수명 바꾸기"
   ]
  },
  {
   "cell_type": "code",
   "execution_count": 151,
   "id": "5b120f35-b044-483b-97c0-cb40030a351d",
   "metadata": {},
   "outputs": [],
   "source": [
    "merged_df_all['일회성구매고객'] = merged_df_all['고객ID'].isin(one_visiter).astype('int')\n",
    "merged_df_all.loc[:,'거주지역'] = df.groupby(['고객ID'])['고객지역'].max().reset_index(drop=True)"
   ]
  },
  {
   "cell_type": "code",
   "execution_count": 152,
   "id": "f04075ce-7a9a-4d32-89f5-1169e61beb2d",
   "metadata": {},
   "outputs": [],
   "source": [
    "cat_list = cust_cat.columns[1:].to_list()\n",
    "\n",
    "merged_df_all[['Clicked','Not Used','Used']] = merged_df_all[['Clicked','Not Used','Used']].div(merged_df_all[['Clicked','Not Used','Used']].sum(axis=1),axis=0)\n",
    "merged_df_all[cat_list] = merged_df_all[cat_list].div(merged_df_all[cat_list].sum(axis=1),axis=0)\n",
    "# 단순 횟수가 아니라 비율로 비교하기 위해 수정"
   ]
  },
  {
   "cell_type": "markdown",
   "id": "65bd2497-a1d6-4bd8-aadb-1e773dc0ce24",
   "metadata": {},
   "source": [
    "---"
   ]
  },
  {
   "cell_type": "code",
   "execution_count": 154,
   "id": "d221454b-6caf-4e58-b35e-7f29f1307930",
   "metadata": {},
   "outputs": [],
   "source": [
    "from scipy import stats\n",
    "\n",
    "def perform_ttests(df, group_column):\n",
    "    group_names = df[group_column].unique()\n",
    "    if len(group_names) != 2:\n",
    "        return \"T-test는 두 그룹 간의 비교에 사용됩니다. 그룹 열에 두 개의 고유한 값만 있어야 합니다.\"\n",
    "\n",
    "    group1 = df[df[group_column] == group_names[0]].drop(columns=[group_column])\n",
    "    group2 = df[df[group_column] == group_names[1]].drop(columns=[group_column])\n",
    "\n",
    "    numerical_cols = group1.select_dtypes(include=['number']).columns\n",
    "\n",
    "    results = {}\n",
    "    for col in numerical_cols:\n",
    "        stat, p = stats.ttest_ind(group1[col], group2[col], nan_policy='omit')\n",
    "        results[col] = {'t_statistic': stat, 'p_value': p}\n",
    "    return results\n",
    "# t-test로 통계적 차이가 유의미한 열을 생성"
   ]
  },
  {
   "cell_type": "code",
   "execution_count": 155,
   "id": "017d5199-127d-4031-bcf8-d49f7cf12ec1",
   "metadata": {},
   "outputs": [],
   "source": [
    "ttest_result = perform_ttests(merged_df_all,'일회성구매고객')\n",
    "ttest_result= pd.DataFrame(ttest_result).T\n",
    "# 통계적 차이 데이터프레임 생성"
   ]
  },
  {
   "cell_type": "code",
   "execution_count": 166,
   "id": "3f79d8ab-1a2e-4f96-9258-ab22930cbfa9",
   "metadata": {},
   "outputs": [],
   "source": [
    "from scipy.stats import chi2_contingency\n",
    "\n",
    "def chi_squared_test_categorical_binary(df, categorical_col, binary_col):\n",
    "    \"\"\"\n",
    "    주어진 DataFrame에서 범주형 변수와 이진 변수 간의 통계적 유의성을\n",
    "    카이제곱 검정으로 확인합니다.\n",
    "\n",
    "    Args:\n",
    "        df (pd.DataFrame): 분석할 데이터프레임.\n",
    "        categorical_col (str): 범주형 변수 컬럼 이름.\n",
    "        binary_col (str): 이진 변수 컬럼 이름.\n",
    "\n",
    "    Returns:\n",
    "        float: 카이제곱 검정의 p-value.\n",
    "    \"\"\"\n",
    "    contingency_table = pd.crosstab(df[categorical_col], df[binary_col])\n",
    "    chi2_stat, p_value, dof, expected_freq = chi2_contingency(contingency_table)\n",
    "\n",
    "    return p_value"
   ]
  },
  {
   "cell_type": "code",
   "execution_count": 170,
   "id": "8225cb9e-ff38-4bfe-8f9e-aebe69b7ac45",
   "metadata": {},
   "outputs": [
    {
     "name": "stdout",
     "output_type": "stream",
     "text": [
      "거주지역 카이제곱 검정 p값:  0.1877464510664444\n",
      "성별 카이제곱 검정 p값:  0.2830362395227445\n"
     ]
    }
   ],
   "source": [
    "print('거주지역 카이제곱 검정 p값: ',chi_squared_test_categorical_binary(merged_df_all,'거주지역','일회성구매고객'))\n",
    "print('성별 카이제곱 검정 p값: ',chi_squared_test_categorical_binary(merged_df_all,'성별','일회성구매고객'))\n",
    "# 재방문 고객과 일회성 고객 간의 거주지역, 성별 간 분포 차이는 통계적으로 유의하지 않음."
   ]
  },
  {
   "cell_type": "code",
   "execution_count": 172,
   "id": "8959d599-816c-4e81-92ff-a6f2da75e981",
   "metadata": {},
   "outputs": [
    {
     "data": {
      "text/html": [
       "<div>\n",
       "<style scoped>\n",
       "    .dataframe tbody tr th:only-of-type {\n",
       "        vertical-align: middle;\n",
       "    }\n",
       "\n",
       "    .dataframe tbody tr th {\n",
       "        vertical-align: top;\n",
       "    }\n",
       "\n",
       "    .dataframe thead th {\n",
       "        text-align: right;\n",
       "    }\n",
       "</style>\n",
       "<table border=\"1\" class=\"dataframe\">\n",
       "  <thead>\n",
       "    <tr style=\"text-align: right;\">\n",
       "      <th>일회성구매고객</th>\n",
       "      <th>0</th>\n",
       "      <th>1</th>\n",
       "    </tr>\n",
       "  </thead>\n",
       "  <tbody>\n",
       "    <tr>\n",
       "      <th>Apparel</th>\n",
       "      <td>0.214747</td>\n",
       "      <td>0.241604</td>\n",
       "    </tr>\n",
       "    <tr>\n",
       "      <th>Nest</th>\n",
       "      <td>0.021691</td>\n",
       "      <td>0.031707</td>\n",
       "    </tr>\n",
       "    <tr>\n",
       "      <th>Nest-USA</th>\n",
       "      <td>0.165361</td>\n",
       "      <td>0.214260</td>\n",
       "    </tr>\n",
       "    <tr>\n",
       "      <th>Office</th>\n",
       "      <td>0.286032</td>\n",
       "      <td>0.233177</td>\n",
       "    </tr>\n",
       "    <tr>\n",
       "      <th>총거래량</th>\n",
       "      <td>55.552716</td>\n",
       "      <td>21.078385</td>\n",
       "    </tr>\n",
       "    <tr>\n",
       "      <th>마지막거래주</th>\n",
       "      <td>37.246006</td>\n",
       "      <td>26.695962</td>\n",
       "    </tr>\n",
       "  </tbody>\n",
       "</table>\n",
       "</div>"
      ],
      "text/plain": [
       "일회성구매고객           0          1\n",
       "Apparel    0.214747   0.241604\n",
       "Nest       0.021691   0.031707\n",
       "Nest-USA   0.165361   0.214260\n",
       "Office     0.286032   0.233177\n",
       "총거래량      55.552716  21.078385\n",
       "마지막거래주    37.246006  26.695962"
      ]
     },
     "execution_count": 172,
     "metadata": {},
     "output_type": "execute_result"
    }
   ],
   "source": [
    "signif = ttest_result[ttest_result['p_value']<0.05]\n",
    "# 두 집단간 유의한 차이를 보이는 변수만 생성\n",
    "\n",
    "compare_df = merged_df_all.drop(['고객ID','성별','거주지역'],axis=1).groupby('일회성구매고객').mean().T\n",
    "# 통계적으로 유의미하지 않았던 성별과 거주지역 변수는 제외함.\n",
    "compare_df[compare_df.index.isin(signif.index)]\n",
    "# 차이가 있는 변수들의 실제 평균값 확인"
   ]
  },
  {
   "cell_type": "markdown",
   "id": "14f2f684-012b-44d7-8244-bf526b4efc0b",
   "metadata": {},
   "source": [
    "## 재방문 고객의 구매 특성\n",
    "- **Apparel 제품**, Nest 제품, Nest-USA 제품: 총 구매에서 각 제품군이 차지하는 비율이 낮았음.\n",
    "- **Office 제품** : 총 구매에서 해당 제품군이 차지하는 비율이 높았음.\n",
    "- **총거래량** : 약 2.5배 높음.\n",
    "- **마지막 거래주**: 마지막 거래로부터 약 30% 정도 더 오래된 특성을 보임.\n",
    "- 성별과 거주지역은 통계적으로 유의미하지 않았음."
   ]
  },
  {
   "cell_type": "code",
   "execution_count": 173,
   "id": "17518122-4c24-4cad-aadd-c0eeb25215af",
   "metadata": {},
   "outputs": [],
   "source": [
    "merge_info = pd.concat([compare_df,ttest_result],axis=1)\n",
    "# 그룹별 통계적 차이 및 평균값 데이터프레임\n",
    "merge_info.to_csv('../PROCESSED/group_statistic_avg.csv',index=True)"
   ]
  },
  {
   "cell_type": "code",
   "execution_count": 174,
   "id": "c1b3baaa-b01d-438f-a40f-4a25a370599d",
   "metadata": {},
   "outputs": [],
   "source": [
    "merged_df_all.to_csv('../PROCESSED/merged_customer_info.csv',index=False)"
   ]
  }
 ],
 "metadata": {
  "kernelspec": {
   "display_name": "Python 3 (ipykernel)",
   "language": "python",
   "name": "python3"
  },
  "language_info": {
   "codemirror_mode": {
    "name": "ipython",
    "version": 3
   },
   "file_extension": ".py",
   "mimetype": "text/x-python",
   "name": "python",
   "nbconvert_exporter": "python",
   "pygments_lexer": "ipython3",
   "version": "3.11.7"
  }
 },
 "nbformat": 4,
 "nbformat_minor": 5
}
