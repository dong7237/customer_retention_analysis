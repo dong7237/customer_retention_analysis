{
 "cells": [
  {
   "cell_type": "markdown",
   "id": "d973e3de-ce61-4c4a-a4ed-697291dd1e0c",
   "metadata": {},
   "source": [
    "# 데이터 불러오기"
   ]
  },
  {
   "cell_type": "code",
   "execution_count": 1,
   "id": "78fc679b-5799-4476-b4b3-60d85bc0f9ca",
   "metadata": {},
   "outputs": [],
   "source": [
    "import pandas as pd\n",
    "import numpy as np\n",
    "import warnings\n",
    "warnings.filterwarnings('ignore')\n",
    "from IPython.display import set_matplotlib_formats\n",
    "\n",
    "# 레티나 디스플레이 설정\n",
    "set_matplotlib_formats('retina')"
   ]
  },
  {
   "cell_type": "code",
   "execution_count": 17,
   "id": "3b3554db-8e7a-4f48-9746-827e267c414a",
   "metadata": {},
   "outputs": [],
   "source": [
    "onlinesales_info = pd.read_csv('../RAW/Onlinesales_info.csv')\n",
    "tax_info = pd.read_csv('../RAW/Tax_info.csv')\n",
    "discount_info = pd.read_csv('../RAW/Discount_info.csv')\n",
    "customer_info = pd.read_csv('../RAW/Customer_info.csv')\n",
    "# 데이터 불러오기"
   ]
  },
  {
   "cell_type": "code",
   "execution_count": 88,
   "id": "8dd1fddb-1898-4a30-aacf-129660958919",
   "metadata": {},
   "outputs": [],
   "source": [
    "def type_desc(df):\n",
    "    obj_col = df.select_dtypes(include=['object']).columns.to_list()\n",
    "    num_col = df.select_dtypes(include=['float','int']).columns.to_list()\n",
    "    result_dict = {\n",
    "        'obj' : df[obj_col].describe(),\n",
    "        'num' : df[num_col].describe()\n",
    "    }\n",
    "    return result_dict\n",
    "\n",
    "# 기술통계량 도출 함수 정의"
   ]
  },
  {
   "cell_type": "markdown",
   "id": "dcb785f6-6eb4-4eb6-add2-97c6a6c786c3",
   "metadata": {},
   "source": [
    "# 데이터 이해"
   ]
  },
  {
   "cell_type": "markdown",
   "id": "28168a1c-d3f4-4776-aba2-30c0b1cab241",
   "metadata": {},
   "source": [
    "## onlinesales 데이터프레임"
   ]
  },
  {
   "cell_type": "code",
   "execution_count": 97,
   "id": "96c9ef91-8346-4e13-9987-632cabaf475f",
   "metadata": {},
   "outputs": [
    {
     "data": {
      "text/plain": [
       "고객ID      0\n",
       "거래ID      0\n",
       "거래날짜      0\n",
       "제품ID      0\n",
       "제품카테고리    0\n",
       "수량        0\n",
       "평균금액      0\n",
       "배송료       0\n",
       "쿠폰상태      0\n",
       "dtype: int64"
      ]
     },
     "execution_count": 97,
     "metadata": {},
     "output_type": "execute_result"
    }
   ],
   "source": [
    "online_desc = type_desc(onlinesales_info)\n",
    "onlinesales_info.isna().sum()"
   ]
  },
  {
   "cell_type": "code",
   "execution_count": 98,
   "id": "2be58387-ab01-46a8-aa5f-3f97d56c6ea8",
   "metadata": {},
   "outputs": [
    {
     "data": {
      "text/html": [
       "<div>\n",
       "<style scoped>\n",
       "    .dataframe tbody tr th:only-of-type {\n",
       "        vertical-align: middle;\n",
       "    }\n",
       "\n",
       "    .dataframe tbody tr th {\n",
       "        vertical-align: top;\n",
       "    }\n",
       "\n",
       "    .dataframe thead th {\n",
       "        text-align: right;\n",
       "    }\n",
       "</style>\n",
       "<table border=\"1\" class=\"dataframe\">\n",
       "  <thead>\n",
       "    <tr style=\"text-align: right;\">\n",
       "      <th></th>\n",
       "      <th>고객ID</th>\n",
       "      <th>거래ID</th>\n",
       "      <th>거래날짜</th>\n",
       "      <th>제품ID</th>\n",
       "      <th>제품카테고리</th>\n",
       "      <th>쿠폰상태</th>\n",
       "    </tr>\n",
       "  </thead>\n",
       "  <tbody>\n",
       "    <tr>\n",
       "      <th>count</th>\n",
       "      <td>52924</td>\n",
       "      <td>52924</td>\n",
       "      <td>52924</td>\n",
       "      <td>52924</td>\n",
       "      <td>52924</td>\n",
       "      <td>52924</td>\n",
       "    </tr>\n",
       "    <tr>\n",
       "      <th>unique</th>\n",
       "      <td>1468</td>\n",
       "      <td>25061</td>\n",
       "      <td>365</td>\n",
       "      <td>1145</td>\n",
       "      <td>20</td>\n",
       "      <td>3</td>\n",
       "    </tr>\n",
       "    <tr>\n",
       "      <th>top</th>\n",
       "      <td>USER_0118</td>\n",
       "      <td>Transaction_12261</td>\n",
       "      <td>2019-11-27</td>\n",
       "      <td>Product_0981</td>\n",
       "      <td>Apparel</td>\n",
       "      <td>Clicked</td>\n",
       "    </tr>\n",
       "    <tr>\n",
       "      <th>freq</th>\n",
       "      <td>695</td>\n",
       "      <td>35</td>\n",
       "      <td>335</td>\n",
       "      <td>3511</td>\n",
       "      <td>18126</td>\n",
       "      <td>26926</td>\n",
       "    </tr>\n",
       "  </tbody>\n",
       "</table>\n",
       "</div>"
      ],
      "text/plain": [
       "             고객ID               거래ID        거래날짜          제품ID   제품카테고리  \\\n",
       "count       52924              52924       52924         52924    52924   \n",
       "unique       1468              25061         365          1145       20   \n",
       "top     USER_0118  Transaction_12261  2019-11-27  Product_0981  Apparel   \n",
       "freq          695                 35         335          3511    18126   \n",
       "\n",
       "           쿠폰상태  \n",
       "count     52924  \n",
       "unique        3  \n",
       "top     Clicked  \n",
       "freq      26926  "
      ]
     },
     "execution_count": 98,
     "metadata": {},
     "output_type": "execute_result"
    }
   ],
   "source": [
    "online_desc['obj']"
   ]
  },
  {
   "cell_type": "code",
   "execution_count": 99,
   "id": "22b75089-b5c7-4985-ac3c-3cb1bca859bd",
   "metadata": {},
   "outputs": [
    {
     "data": {
      "text/html": [
       "<div>\n",
       "<style scoped>\n",
       "    .dataframe tbody tr th:only-of-type {\n",
       "        vertical-align: middle;\n",
       "    }\n",
       "\n",
       "    .dataframe tbody tr th {\n",
       "        vertical-align: top;\n",
       "    }\n",
       "\n",
       "    .dataframe thead th {\n",
       "        text-align: right;\n",
       "    }\n",
       "</style>\n",
       "<table border=\"1\" class=\"dataframe\">\n",
       "  <thead>\n",
       "    <tr style=\"text-align: right;\">\n",
       "      <th></th>\n",
       "      <th>수량</th>\n",
       "      <th>평균금액</th>\n",
       "      <th>배송료</th>\n",
       "    </tr>\n",
       "  </thead>\n",
       "  <tbody>\n",
       "    <tr>\n",
       "      <th>count</th>\n",
       "      <td>52924.000000</td>\n",
       "      <td>52924.000000</td>\n",
       "      <td>52924.000000</td>\n",
       "    </tr>\n",
       "    <tr>\n",
       "      <th>mean</th>\n",
       "      <td>4.497638</td>\n",
       "      <td>52.237646</td>\n",
       "      <td>10.517630</td>\n",
       "    </tr>\n",
       "    <tr>\n",
       "      <th>std</th>\n",
       "      <td>20.104711</td>\n",
       "      <td>64.006882</td>\n",
       "      <td>19.475613</td>\n",
       "    </tr>\n",
       "    <tr>\n",
       "      <th>min</th>\n",
       "      <td>1.000000</td>\n",
       "      <td>0.390000</td>\n",
       "      <td>0.000000</td>\n",
       "    </tr>\n",
       "    <tr>\n",
       "      <th>25%</th>\n",
       "      <td>1.000000</td>\n",
       "      <td>5.700000</td>\n",
       "      <td>6.000000</td>\n",
       "    </tr>\n",
       "    <tr>\n",
       "      <th>50%</th>\n",
       "      <td>1.000000</td>\n",
       "      <td>16.990000</td>\n",
       "      <td>6.000000</td>\n",
       "    </tr>\n",
       "    <tr>\n",
       "      <th>75%</th>\n",
       "      <td>2.000000</td>\n",
       "      <td>102.130000</td>\n",
       "      <td>6.500000</td>\n",
       "    </tr>\n",
       "    <tr>\n",
       "      <th>max</th>\n",
       "      <td>900.000000</td>\n",
       "      <td>355.740000</td>\n",
       "      <td>521.360000</td>\n",
       "    </tr>\n",
       "  </tbody>\n",
       "</table>\n",
       "</div>"
      ],
      "text/plain": [
       "                 수량          평균금액           배송료\n",
       "count  52924.000000  52924.000000  52924.000000\n",
       "mean       4.497638     52.237646     10.517630\n",
       "std       20.104711     64.006882     19.475613\n",
       "min        1.000000      0.390000      0.000000\n",
       "25%        1.000000      5.700000      6.000000\n",
       "50%        1.000000     16.990000      6.000000\n",
       "75%        2.000000    102.130000      6.500000\n",
       "max      900.000000    355.740000    521.360000"
      ]
     },
     "execution_count": 99,
     "metadata": {},
     "output_type": "execute_result"
    }
   ],
   "source": [
    "online_desc['num']"
   ]
  },
  {
   "cell_type": "markdown",
   "id": "fc60f131-1dc7-4373-8331-0b6c95e17bcd",
   "metadata": {},
   "source": [
    "## tax 데이터프레임"
   ]
  },
  {
   "cell_type": "code",
   "execution_count": 107,
   "id": "30ce3230-5c0a-4483-89e1-f1286995df0a",
   "metadata": {},
   "outputs": [
    {
     "data": {
      "text/plain": [
       "제품카테고리    0\n",
       "GST       0\n",
       "dtype: int64"
      ]
     },
     "execution_count": 107,
     "metadata": {},
     "output_type": "execute_result"
    }
   ],
   "source": [
    "tax_desc = type_desc(tax_info)\n",
    "tax_info.isna().sum()"
   ]
  },
  {
   "cell_type": "code",
   "execution_count": 103,
   "id": "fec94d92-d956-42a0-9900-f49a0d557e14",
   "metadata": {},
   "outputs": [
    {
     "data": {
      "text/html": [
       "<div>\n",
       "<style scoped>\n",
       "    .dataframe tbody tr th:only-of-type {\n",
       "        vertical-align: middle;\n",
       "    }\n",
       "\n",
       "    .dataframe tbody tr th {\n",
       "        vertical-align: top;\n",
       "    }\n",
       "\n",
       "    .dataframe thead th {\n",
       "        text-align: right;\n",
       "    }\n",
       "</style>\n",
       "<table border=\"1\" class=\"dataframe\">\n",
       "  <thead>\n",
       "    <tr style=\"text-align: right;\">\n",
       "      <th></th>\n",
       "      <th>제품카테고리</th>\n",
       "    </tr>\n",
       "  </thead>\n",
       "  <tbody>\n",
       "    <tr>\n",
       "      <th>count</th>\n",
       "      <td>20</td>\n",
       "    </tr>\n",
       "    <tr>\n",
       "      <th>unique</th>\n",
       "      <td>20</td>\n",
       "    </tr>\n",
       "    <tr>\n",
       "      <th>top</th>\n",
       "      <td>Nest-USA</td>\n",
       "    </tr>\n",
       "    <tr>\n",
       "      <th>freq</th>\n",
       "      <td>1</td>\n",
       "    </tr>\n",
       "  </tbody>\n",
       "</table>\n",
       "</div>"
      ],
      "text/plain": [
       "          제품카테고리\n",
       "count         20\n",
       "unique        20\n",
       "top     Nest-USA\n",
       "freq           1"
      ]
     },
     "execution_count": 103,
     "metadata": {},
     "output_type": "execute_result"
    }
   ],
   "source": [
    "tax_desc['obj']"
   ]
  },
  {
   "cell_type": "code",
   "execution_count": 104,
   "id": "03e217b3-1cb3-4353-8fcc-79d4d912a401",
   "metadata": {},
   "outputs": [
    {
     "data": {
      "text/html": [
       "<div>\n",
       "<style scoped>\n",
       "    .dataframe tbody tr th:only-of-type {\n",
       "        vertical-align: middle;\n",
       "    }\n",
       "\n",
       "    .dataframe tbody tr th {\n",
       "        vertical-align: top;\n",
       "    }\n",
       "\n",
       "    .dataframe thead th {\n",
       "        text-align: right;\n",
       "    }\n",
       "</style>\n",
       "<table border=\"1\" class=\"dataframe\">\n",
       "  <thead>\n",
       "    <tr style=\"text-align: right;\">\n",
       "      <th></th>\n",
       "      <th>GST</th>\n",
       "    </tr>\n",
       "  </thead>\n",
       "  <tbody>\n",
       "    <tr>\n",
       "      <th>count</th>\n",
       "      <td>20.000000</td>\n",
       "    </tr>\n",
       "    <tr>\n",
       "      <th>mean</th>\n",
       "      <td>0.116500</td>\n",
       "    </tr>\n",
       "    <tr>\n",
       "      <th>std</th>\n",
       "      <td>0.052443</td>\n",
       "    </tr>\n",
       "    <tr>\n",
       "      <th>min</th>\n",
       "      <td>0.050000</td>\n",
       "    </tr>\n",
       "    <tr>\n",
       "      <th>25%</th>\n",
       "      <td>0.087500</td>\n",
       "    </tr>\n",
       "    <tr>\n",
       "      <th>50%</th>\n",
       "      <td>0.100000</td>\n",
       "    </tr>\n",
       "    <tr>\n",
       "      <th>75%</th>\n",
       "      <td>0.180000</td>\n",
       "    </tr>\n",
       "    <tr>\n",
       "      <th>max</th>\n",
       "      <td>0.180000</td>\n",
       "    </tr>\n",
       "  </tbody>\n",
       "</table>\n",
       "</div>"
      ],
      "text/plain": [
       "             GST\n",
       "count  20.000000\n",
       "mean    0.116500\n",
       "std     0.052443\n",
       "min     0.050000\n",
       "25%     0.087500\n",
       "50%     0.100000\n",
       "75%     0.180000\n",
       "max     0.180000"
      ]
     },
     "execution_count": 104,
     "metadata": {},
     "output_type": "execute_result"
    }
   ],
   "source": [
    "tax_desc['num']"
   ]
  },
  {
   "cell_type": "markdown",
   "id": "44c9967d-361c-46fe-8334-889d2aae34d3",
   "metadata": {},
   "source": [
    "## discount 데이터프레임"
   ]
  },
  {
   "cell_type": "code",
   "execution_count": 106,
   "id": "b6359272-e08e-4356-a084-b4c52629d0fa",
   "metadata": {},
   "outputs": [
    {
     "data": {
      "text/plain": [
       "월         0\n",
       "제품카테고리    0\n",
       "쿠폰코드      0\n",
       "할인율       0\n",
       "dtype: int64"
      ]
     },
     "execution_count": 106,
     "metadata": {},
     "output_type": "execute_result"
    }
   ],
   "source": [
    "discount_desc = type_desc(discount_info)\n",
    "discount_info.isna().sum()"
   ]
  },
  {
   "cell_type": "code",
   "execution_count": 108,
   "id": "5f539fb4-8ed0-4c36-8628-25221c3cc306",
   "metadata": {},
   "outputs": [
    {
     "data": {
      "text/html": [
       "<div>\n",
       "<style scoped>\n",
       "    .dataframe tbody tr th:only-of-type {\n",
       "        vertical-align: middle;\n",
       "    }\n",
       "\n",
       "    .dataframe tbody tr th {\n",
       "        vertical-align: top;\n",
       "    }\n",
       "\n",
       "    .dataframe thead th {\n",
       "        text-align: right;\n",
       "    }\n",
       "</style>\n",
       "<table border=\"1\" class=\"dataframe\">\n",
       "  <thead>\n",
       "    <tr style=\"text-align: right;\">\n",
       "      <th></th>\n",
       "      <th>월</th>\n",
       "      <th>제품카테고리</th>\n",
       "      <th>쿠폰코드</th>\n",
       "    </tr>\n",
       "  </thead>\n",
       "  <tbody>\n",
       "    <tr>\n",
       "      <th>count</th>\n",
       "      <td>204</td>\n",
       "      <td>204</td>\n",
       "      <td>204</td>\n",
       "    </tr>\n",
       "    <tr>\n",
       "      <th>unique</th>\n",
       "      <td>12</td>\n",
       "      <td>17</td>\n",
       "      <td>48</td>\n",
       "    </tr>\n",
       "    <tr>\n",
       "      <th>top</th>\n",
       "      <td>Jan</td>\n",
       "      <td>Apparel</td>\n",
       "      <td>EXTRA10</td>\n",
       "    </tr>\n",
       "    <tr>\n",
       "      <th>freq</th>\n",
       "      <td>17</td>\n",
       "      <td>12</td>\n",
       "      <td>8</td>\n",
       "    </tr>\n",
       "  </tbody>\n",
       "</table>\n",
       "</div>"
      ],
      "text/plain": [
       "          월   제품카테고리     쿠폰코드\n",
       "count   204      204      204\n",
       "unique   12       17       48\n",
       "top     Jan  Apparel  EXTRA10\n",
       "freq     17       12        8"
      ]
     },
     "execution_count": 108,
     "metadata": {},
     "output_type": "execute_result"
    }
   ],
   "source": [
    "discount_desc['obj']"
   ]
  },
  {
   "cell_type": "code",
   "execution_count": 109,
   "id": "af6b4693-8e5c-427a-9f03-a06b34a42d3e",
   "metadata": {},
   "outputs": [
    {
     "data": {
      "text/html": [
       "<div>\n",
       "<style scoped>\n",
       "    .dataframe tbody tr th:only-of-type {\n",
       "        vertical-align: middle;\n",
       "    }\n",
       "\n",
       "    .dataframe tbody tr th {\n",
       "        vertical-align: top;\n",
       "    }\n",
       "\n",
       "    .dataframe thead th {\n",
       "        text-align: right;\n",
       "    }\n",
       "</style>\n",
       "<table border=\"1\" class=\"dataframe\">\n",
       "  <thead>\n",
       "    <tr style=\"text-align: right;\">\n",
       "      <th></th>\n",
       "      <th>할인율</th>\n",
       "    </tr>\n",
       "  </thead>\n",
       "  <tbody>\n",
       "    <tr>\n",
       "      <th>count</th>\n",
       "      <td>204.000000</td>\n",
       "    </tr>\n",
       "    <tr>\n",
       "      <th>mean</th>\n",
       "      <td>20.000000</td>\n",
       "    </tr>\n",
       "    <tr>\n",
       "      <th>std</th>\n",
       "      <td>8.185052</td>\n",
       "    </tr>\n",
       "    <tr>\n",
       "      <th>min</th>\n",
       "      <td>10.000000</td>\n",
       "    </tr>\n",
       "    <tr>\n",
       "      <th>25%</th>\n",
       "      <td>10.000000</td>\n",
       "    </tr>\n",
       "    <tr>\n",
       "      <th>50%</th>\n",
       "      <td>20.000000</td>\n",
       "    </tr>\n",
       "    <tr>\n",
       "      <th>75%</th>\n",
       "      <td>30.000000</td>\n",
       "    </tr>\n",
       "    <tr>\n",
       "      <th>max</th>\n",
       "      <td>30.000000</td>\n",
       "    </tr>\n",
       "  </tbody>\n",
       "</table>\n",
       "</div>"
      ],
      "text/plain": [
       "              할인율\n",
       "count  204.000000\n",
       "mean    20.000000\n",
       "std      8.185052\n",
       "min     10.000000\n",
       "25%     10.000000\n",
       "50%     20.000000\n",
       "75%     30.000000\n",
       "max     30.000000"
      ]
     },
     "execution_count": 109,
     "metadata": {},
     "output_type": "execute_result"
    }
   ],
   "source": [
    "discount_desc['num']"
   ]
  },
  {
   "cell_type": "markdown",
   "id": "3f20e577-be30-4dfa-bfd9-e78d7ab7bcdd",
   "metadata": {},
   "source": [
    "## customer 데이터프레임"
   ]
  },
  {
   "cell_type": "code",
   "execution_count": 110,
   "id": "d33e7ec7-576e-479d-b438-5e60a36b76ce",
   "metadata": {},
   "outputs": [
    {
     "data": {
      "text/plain": [
       "고객ID    0\n",
       "성별      0\n",
       "고객지역    0\n",
       "가입기간    0\n",
       "dtype: int64"
      ]
     },
     "execution_count": 110,
     "metadata": {},
     "output_type": "execute_result"
    }
   ],
   "source": [
    "customer_desc = type_desc(customer_info)\n",
    "customer_info.isna().sum()"
   ]
  },
  {
   "cell_type": "code",
   "execution_count": 111,
   "id": "edaa8373-8daf-47dd-b202-ccb266de1fb0",
   "metadata": {},
   "outputs": [
    {
     "data": {
      "text/html": [
       "<div>\n",
       "<style scoped>\n",
       "    .dataframe tbody tr th:only-of-type {\n",
       "        vertical-align: middle;\n",
       "    }\n",
       "\n",
       "    .dataframe tbody tr th {\n",
       "        vertical-align: top;\n",
       "    }\n",
       "\n",
       "    .dataframe thead th {\n",
       "        text-align: right;\n",
       "    }\n",
       "</style>\n",
       "<table border=\"1\" class=\"dataframe\">\n",
       "  <thead>\n",
       "    <tr style=\"text-align: right;\">\n",
       "      <th></th>\n",
       "      <th>고객ID</th>\n",
       "      <th>성별</th>\n",
       "      <th>고객지역</th>\n",
       "    </tr>\n",
       "  </thead>\n",
       "  <tbody>\n",
       "    <tr>\n",
       "      <th>count</th>\n",
       "      <td>1468</td>\n",
       "      <td>1468</td>\n",
       "      <td>1468</td>\n",
       "    </tr>\n",
       "    <tr>\n",
       "      <th>unique</th>\n",
       "      <td>1468</td>\n",
       "      <td>2</td>\n",
       "      <td>5</td>\n",
       "    </tr>\n",
       "    <tr>\n",
       "      <th>top</th>\n",
       "      <td>USER_1358</td>\n",
       "      <td>여</td>\n",
       "      <td>California</td>\n",
       "    </tr>\n",
       "    <tr>\n",
       "      <th>freq</th>\n",
       "      <td>1</td>\n",
       "      <td>934</td>\n",
       "      <td>464</td>\n",
       "    </tr>\n",
       "  </tbody>\n",
       "</table>\n",
       "</div>"
      ],
      "text/plain": [
       "             고객ID    성별        고객지역\n",
       "count        1468  1468        1468\n",
       "unique       1468     2           5\n",
       "top     USER_1358     여  California\n",
       "freq            1   934         464"
      ]
     },
     "execution_count": 111,
     "metadata": {},
     "output_type": "execute_result"
    }
   ],
   "source": [
    "customer_desc['obj']"
   ]
  },
  {
   "cell_type": "code",
   "execution_count": 112,
   "id": "183531d3-b270-4226-bd83-b0a9f88e8ce9",
   "metadata": {
    "scrolled": true
   },
   "outputs": [
    {
     "data": {
      "text/html": [
       "<div>\n",
       "<style scoped>\n",
       "    .dataframe tbody tr th:only-of-type {\n",
       "        vertical-align: middle;\n",
       "    }\n",
       "\n",
       "    .dataframe tbody tr th {\n",
       "        vertical-align: top;\n",
       "    }\n",
       "\n",
       "    .dataframe thead th {\n",
       "        text-align: right;\n",
       "    }\n",
       "</style>\n",
       "<table border=\"1\" class=\"dataframe\">\n",
       "  <thead>\n",
       "    <tr style=\"text-align: right;\">\n",
       "      <th></th>\n",
       "      <th>가입기간</th>\n",
       "    </tr>\n",
       "  </thead>\n",
       "  <tbody>\n",
       "    <tr>\n",
       "      <th>count</th>\n",
       "      <td>1468.000000</td>\n",
       "    </tr>\n",
       "    <tr>\n",
       "      <th>mean</th>\n",
       "      <td>25.912125</td>\n",
       "    </tr>\n",
       "    <tr>\n",
       "      <th>std</th>\n",
       "      <td>13.959667</td>\n",
       "    </tr>\n",
       "    <tr>\n",
       "      <th>min</th>\n",
       "      <td>2.000000</td>\n",
       "    </tr>\n",
       "    <tr>\n",
       "      <th>25%</th>\n",
       "      <td>14.000000</td>\n",
       "    </tr>\n",
       "    <tr>\n",
       "      <th>50%</th>\n",
       "      <td>26.000000</td>\n",
       "    </tr>\n",
       "    <tr>\n",
       "      <th>75%</th>\n",
       "      <td>38.000000</td>\n",
       "    </tr>\n",
       "    <tr>\n",
       "      <th>max</th>\n",
       "      <td>50.000000</td>\n",
       "    </tr>\n",
       "  </tbody>\n",
       "</table>\n",
       "</div>"
      ],
      "text/plain": [
       "              가입기간\n",
       "count  1468.000000\n",
       "mean     25.912125\n",
       "std      13.959667\n",
       "min       2.000000\n",
       "25%      14.000000\n",
       "50%      26.000000\n",
       "75%      38.000000\n",
       "max      50.000000"
      ]
     },
     "execution_count": 112,
     "metadata": {},
     "output_type": "execute_result"
    }
   ],
   "source": [
    "customer_desc['num']"
   ]
  },
  {
   "cell_type": "markdown",
   "id": "d2024631-b9fb-4c1c-9209-e3fa2f2e0688",
   "metadata": {},
   "source": [
    "---"
   ]
  },
  {
   "cell_type": "markdown",
   "id": "94324c62-30c7-4519-bd4e-50e2b2da1389",
   "metadata": {},
   "source": [
    "# 데이터 병합 및 전처리 과정"
   ]
  },
  {
   "cell_type": "markdown",
   "id": "0720368a-6637-40d3-9ad7-66e64315b05b",
   "metadata": {},
   "source": [
    "**1. 고객 ID 기준 병합**\n",
    "    : customer_info, onlinesales_info\n",
    "    \n",
    "**2. 제품 카테고리 기준 병합**\n",
    "    : tax_info, discount_info\n",
    "\n",
    "**3. 제품 카테고리, 월 기준 병합**\n",
    "    : 1 병합 결과, 2 병합 결과"
   ]
  },
  {
   "cell_type": "code",
   "execution_count": 163,
   "id": "1e23b1a3-fcc0-45ee-b99b-950e8eafc6bb",
   "metadata": {},
   "outputs": [],
   "source": [
    "id_merge = pd.merge(onlinesales_info,customer_info,on='고객ID')\n",
    "# 1 병합\n",
    "cat_merge = pd.merge(tax_info,discount_info,on='제품카테고리')\n",
    "# 2 병합"
   ]
  },
  {
   "cell_type": "code",
   "execution_count": 164,
   "id": "c1c29e1e-e7d4-4f7e-8214-c4b103da954b",
   "metadata": {},
   "outputs": [],
   "source": [
    "month_mapping = {\n",
    "    1: 'Jan', 2: 'Feb', 3: 'Mar', 4: 'Apr', 5: 'May', 6: 'Jun',\n",
    "    7: 'Jul', 8: 'Aug', 9: 'Sep', 10: 'Oct', 11: 'Nov', 12: 'Dec'\n",
    "}\n",
    "id_merge['월'] = pd.to_datetime(id_merge['거래날짜']).dt.month\n",
    "id_merge['월'] = id_merge['월'].map(lambda x: month_mapping[x])\n",
    "# 월 데이터를 병합을 위해 변환 "
   ]
  },
  {
   "cell_type": "code",
   "execution_count": 174,
   "id": "8e206f17-6092-4ab2-ad95-eb1d26bd77b2",
   "metadata": {},
   "outputs": [],
   "source": [
    "merge_df = pd.merge(id_merge,cat_merge,on=['제품카테고리','월'],how='left')\n",
    "# 최종 병합본 생성"
   ]
  },
  {
   "cell_type": "code",
   "execution_count": 176,
   "id": "722f3d61-0246-4929-a250-746ad629a422",
   "metadata": {},
   "outputs": [],
   "source": [
    "# merge_df.to_csv('../PROCESSED/merge_df.csv',index=False)\n",
    "# 병합 데이터프레임 저장"
   ]
  }
 ],
 "metadata": {
  "kernelspec": {
   "display_name": "Python 3 (ipykernel)",
   "language": "python",
   "name": "python3"
  },
  "language_info": {
   "codemirror_mode": {
    "name": "ipython",
    "version": 3
   },
   "file_extension": ".py",
   "mimetype": "text/x-python",
   "name": "python",
   "nbconvert_exporter": "python",
   "pygments_lexer": "ipython3",
   "version": "3.11.7"
  }
 },
 "nbformat": 4,
 "nbformat_minor": 5
}
